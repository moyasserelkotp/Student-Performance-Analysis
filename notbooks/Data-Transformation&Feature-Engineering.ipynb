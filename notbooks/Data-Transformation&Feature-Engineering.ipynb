{
 "cells": [
  {
   "cell_type": "markdown",
   "id": "f9fec61a",
   "metadata": {},
   "source": [
    "#### 2️⃣ 🔧  Data Transformation & Feature Engineering\n",
    "<small>\n",
    "\n",
    "⚡ **Goal:** Make data model-ready and prevent leakage.  \n",
    "\n",
    "-  **Encoding:** One-hot encode categorical features (school, sex, address, Mjob, etc.).  \n",
    "-  **Scaling:** Standardize numeric variables.  \n",
    "-  **Feature Engineering:**  \n",
    "  - Attendance proxy (from absences).  \n",
    "  - Average grade (mean of G1–G3).  \n",
    "  - Risk target → 3-class (Low, Medium, High).  \n",
    "-  **Leakage Control:**  \n",
    "  - Variant A: Include G1 & G2 → strong predictors.  \n",
    "  - Variant B: Exclude G1 & G2 → early-stage scenario.  \n",
    "\n",
    "---"
   ]
  },
  {
   "cell_type": "code",
   "execution_count": 2,
   "id": "4495540f",
   "metadata": {},
   "outputs": [],
   "source": [
    "# ===============================\n",
    "# 📚 Essential Libraries for Project\n",
    "# ===============================\n",
    "\n",
    "# Data handling\n",
    "import pandas as pd\n",
    "import numpy as np\n",
    "\n",
    "# Fetch UCI ML Repository datasets\n",
    "from ucimlrepo import fetch_ucirepo\n",
    "\n",
    "# Data visualization\n",
    "import matplotlib.pyplot as plt\n",
    "import seaborn as sns\n",
    "import plotly.express as px\n",
    "\n",
    "import plotly.graph_objects as go\n",
    "import missingno as msno\n",
    "\n",
    "# Handle Warning\n",
    "import warnings\n",
    "warnings.filterwarnings(\"ignore\")\n",
    "\n",
    "\n",
    "# Machine Learning (Supervised & Unsupervised)\n",
    "from sklearn.model_selection import (\n",
    "    train_test_split,\n",
    "    cross_val_score,\n",
    "    GridSearchCV,\n",
    "    RandomizedSearchCV,\n",
    ")\n",
    "from sklearn.preprocessing import StandardScaler, LabelEncoder\n",
    "from sklearn.linear_model import (\n",
    "    LogisticRegression,\n",
    "    LinearRegression,\n",
    "    Ridge,\n",
    "    Lasso,\n",
    "    ElasticNet,\n",
    ")\n",
    "from sklearn.ensemble import (\n",
    "    RandomForestClassifier,\n",
    "    RandomForestRegressor,\n",
    "    AdaBoostRegressor,\n",
    ")\n",
    "from sklearn.svm import SVC, SVR\n",
    "from sklearn.cluster import KMeans\n",
    "from sklearn.metrics import (\n",
    "    accuracy_score,\n",
    "    confusion_matrix,\n",
    "    classification_report,\n",
    "    silhouette_score,\n",
    "    make_scorer,\n",
    "    f1_score,\n",
    "    precision_score,\n",
    "    recall_score,\n",
    "    mean_squared_error,\n",
    "    r2_score,\n",
    "    mean_absolute_error,\n",
    ")\n",
    "\n",
    "\n",
    "from sklearn.neighbors import KNeighborsRegressor\n",
    "from sklearn.tree import DecisionTreeRegressor\n",
    "from xgboost import XGBRegressor\n",
    "\n",
    "# Dimensionality Reduction & Feature Selection\n",
    "from sklearn.decomposition import PCA\n",
    "from sklearn.feature_selection import SelectKBest, chi2\n",
    "\n",
    "# Stats & Hypothesis Testing\n",
    "import scipy.stats as stats\n",
    "\n",
    "# Dashboard\n",
    "import streamlit as st\n",
    "\n",
    "# Save Models\n",
    "from joblib import dump, load\n",
    "from pickle import dump, load\n",
    "\n",
    "\n",
    "# Set style for consistent plotting\n",
    "plt.style.use(\"default\")\n",
    "sns.set_palette(\"husl\")"
   ]
  },
  {
   "cell_type": "code",
   "execution_count": 5,
   "id": "93073245",
   "metadata": {},
   "outputs": [],
   "source": [
    "# Load cleaned data\n",
    "df = pd.read_csv(\"student_data_cleaned.csv\")"
   ]
  },
  {
   "cell_type": "code",
   "execution_count": 6,
   "id": "e98c83e9",
   "metadata": {},
   "outputs": [
    {
     "data": {
      "application/vnd.microsoft.datawrangler.viewer.v0+json": {
       "columns": [
        {
         "name": "index",
         "rawType": "int64",
         "type": "integer"
        },
        {
         "name": "school",
         "rawType": "object",
         "type": "string"
        },
        {
         "name": "sex",
         "rawType": "object",
         "type": "string"
        },
        {
         "name": "age",
         "rawType": "int64",
         "type": "integer"
        },
        {
         "name": "address",
         "rawType": "object",
         "type": "string"
        },
        {
         "name": "famsize",
         "rawType": "object",
         "type": "string"
        },
        {
         "name": "Pstatus",
         "rawType": "object",
         "type": "string"
        },
        {
         "name": "Medu",
         "rawType": "int64",
         "type": "integer"
        },
        {
         "name": "Fedu",
         "rawType": "int64",
         "type": "integer"
        },
        {
         "name": "Mjob",
         "rawType": "object",
         "type": "string"
        },
        {
         "name": "Fjob",
         "rawType": "object",
         "type": "string"
        },
        {
         "name": "reason",
         "rawType": "object",
         "type": "string"
        },
        {
         "name": "guardian",
         "rawType": "object",
         "type": "string"
        },
        {
         "name": "traveltime",
         "rawType": "int64",
         "type": "integer"
        },
        {
         "name": "studytime",
         "rawType": "int64",
         "type": "integer"
        },
        {
         "name": "failures",
         "rawType": "int64",
         "type": "integer"
        },
        {
         "name": "schoolsup",
         "rawType": "object",
         "type": "string"
        },
        {
         "name": "famsup",
         "rawType": "object",
         "type": "string"
        },
        {
         "name": "paid",
         "rawType": "object",
         "type": "string"
        },
        {
         "name": "activities",
         "rawType": "object",
         "type": "string"
        },
        {
         "name": "nursery",
         "rawType": "object",
         "type": "string"
        },
        {
         "name": "higher",
         "rawType": "object",
         "type": "string"
        },
        {
         "name": "internet",
         "rawType": "object",
         "type": "string"
        },
        {
         "name": "romantic",
         "rawType": "object",
         "type": "string"
        },
        {
         "name": "famrel",
         "rawType": "int64",
         "type": "integer"
        },
        {
         "name": "freetime",
         "rawType": "int64",
         "type": "integer"
        },
        {
         "name": "goout",
         "rawType": "int64",
         "type": "integer"
        },
        {
         "name": "Dalc",
         "rawType": "int64",
         "type": "integer"
        },
        {
         "name": "Walc",
         "rawType": "int64",
         "type": "integer"
        },
        {
         "name": "health",
         "rawType": "int64",
         "type": "integer"
        },
        {
         "name": "absences",
         "rawType": "int64",
         "type": "integer"
        },
        {
         "name": "G1",
         "rawType": "int64",
         "type": "integer"
        },
        {
         "name": "G2",
         "rawType": "int64",
         "type": "integer"
        },
        {
         "name": "G3",
         "rawType": "int64",
         "type": "integer"
        }
       ],
       "ref": "eb21dc1b-efe0-4105-8b96-96668406ee88",
       "rows": [
        [
         "0",
         "GP",
         "F",
         "18",
         "U",
         "GT3",
         "A",
         "4",
         "4",
         "at_home",
         "teacher",
         "course",
         "mother",
         "2",
         "2",
         "0",
         "yes",
         "no",
         "no",
         "no",
         "yes",
         "yes",
         "no",
         "no",
         "4",
         "3",
         "4",
         "1",
         "1",
         "3",
         "4",
         "0",
         "11",
         "11"
        ],
        [
         "1",
         "GP",
         "F",
         "17",
         "U",
         "GT3",
         "T",
         "1",
         "1",
         "at_home",
         "other",
         "course",
         "father",
         "1",
         "2",
         "0",
         "no",
         "yes",
         "no",
         "no",
         "no",
         "yes",
         "yes",
         "no",
         "5",
         "3",
         "3",
         "1",
         "1",
         "3",
         "2",
         "9",
         "11",
         "11"
        ],
        [
         "2",
         "GP",
         "F",
         "15",
         "U",
         "LE3",
         "T",
         "1",
         "1",
         "at_home",
         "other",
         "other",
         "mother",
         "1",
         "2",
         "0",
         "yes",
         "no",
         "no",
         "no",
         "yes",
         "yes",
         "yes",
         "no",
         "4",
         "3",
         "2",
         "2",
         "3",
         "3",
         "6",
         "12",
         "13",
         "12"
        ],
        [
         "3",
         "GP",
         "F",
         "15",
         "U",
         "GT3",
         "T",
         "4",
         "2",
         "health",
         "services",
         "home",
         "mother",
         "1",
         "3",
         "0",
         "no",
         "yes",
         "no",
         "yes",
         "yes",
         "yes",
         "yes",
         "yes",
         "3",
         "2",
         "2",
         "1",
         "1",
         "5",
         "0",
         "14",
         "14",
         "14"
        ],
        [
         "4",
         "GP",
         "F",
         "16",
         "U",
         "GT3",
         "T",
         "3",
         "3",
         "other",
         "other",
         "home",
         "father",
         "1",
         "2",
         "0",
         "no",
         "yes",
         "no",
         "no",
         "yes",
         "yes",
         "no",
         "no",
         "4",
         "3",
         "2",
         "1",
         "2",
         "5",
         "0",
         "11",
         "13",
         "13"
        ]
       ],
       "shape": {
        "columns": 33,
        "rows": 5
       }
      },
      "text/html": [
       "<div>\n",
       "<style scoped>\n",
       "    .dataframe tbody tr th:only-of-type {\n",
       "        vertical-align: middle;\n",
       "    }\n",
       "\n",
       "    .dataframe tbody tr th {\n",
       "        vertical-align: top;\n",
       "    }\n",
       "\n",
       "    .dataframe thead th {\n",
       "        text-align: right;\n",
       "    }\n",
       "</style>\n",
       "<table border=\"1\" class=\"dataframe\">\n",
       "  <thead>\n",
       "    <tr style=\"text-align: right;\">\n",
       "      <th></th>\n",
       "      <th>school</th>\n",
       "      <th>sex</th>\n",
       "      <th>age</th>\n",
       "      <th>address</th>\n",
       "      <th>famsize</th>\n",
       "      <th>Pstatus</th>\n",
       "      <th>Medu</th>\n",
       "      <th>Fedu</th>\n",
       "      <th>Mjob</th>\n",
       "      <th>Fjob</th>\n",
       "      <th>...</th>\n",
       "      <th>famrel</th>\n",
       "      <th>freetime</th>\n",
       "      <th>goout</th>\n",
       "      <th>Dalc</th>\n",
       "      <th>Walc</th>\n",
       "      <th>health</th>\n",
       "      <th>absences</th>\n",
       "      <th>G1</th>\n",
       "      <th>G2</th>\n",
       "      <th>G3</th>\n",
       "    </tr>\n",
       "  </thead>\n",
       "  <tbody>\n",
       "    <tr>\n",
       "      <th>0</th>\n",
       "      <td>GP</td>\n",
       "      <td>F</td>\n",
       "      <td>18</td>\n",
       "      <td>U</td>\n",
       "      <td>GT3</td>\n",
       "      <td>A</td>\n",
       "      <td>4</td>\n",
       "      <td>4</td>\n",
       "      <td>at_home</td>\n",
       "      <td>teacher</td>\n",
       "      <td>...</td>\n",
       "      <td>4</td>\n",
       "      <td>3</td>\n",
       "      <td>4</td>\n",
       "      <td>1</td>\n",
       "      <td>1</td>\n",
       "      <td>3</td>\n",
       "      <td>4</td>\n",
       "      <td>0</td>\n",
       "      <td>11</td>\n",
       "      <td>11</td>\n",
       "    </tr>\n",
       "    <tr>\n",
       "      <th>1</th>\n",
       "      <td>GP</td>\n",
       "      <td>F</td>\n",
       "      <td>17</td>\n",
       "      <td>U</td>\n",
       "      <td>GT3</td>\n",
       "      <td>T</td>\n",
       "      <td>1</td>\n",
       "      <td>1</td>\n",
       "      <td>at_home</td>\n",
       "      <td>other</td>\n",
       "      <td>...</td>\n",
       "      <td>5</td>\n",
       "      <td>3</td>\n",
       "      <td>3</td>\n",
       "      <td>1</td>\n",
       "      <td>1</td>\n",
       "      <td>3</td>\n",
       "      <td>2</td>\n",
       "      <td>9</td>\n",
       "      <td>11</td>\n",
       "      <td>11</td>\n",
       "    </tr>\n",
       "    <tr>\n",
       "      <th>2</th>\n",
       "      <td>GP</td>\n",
       "      <td>F</td>\n",
       "      <td>15</td>\n",
       "      <td>U</td>\n",
       "      <td>LE3</td>\n",
       "      <td>T</td>\n",
       "      <td>1</td>\n",
       "      <td>1</td>\n",
       "      <td>at_home</td>\n",
       "      <td>other</td>\n",
       "      <td>...</td>\n",
       "      <td>4</td>\n",
       "      <td>3</td>\n",
       "      <td>2</td>\n",
       "      <td>2</td>\n",
       "      <td>3</td>\n",
       "      <td>3</td>\n",
       "      <td>6</td>\n",
       "      <td>12</td>\n",
       "      <td>13</td>\n",
       "      <td>12</td>\n",
       "    </tr>\n",
       "    <tr>\n",
       "      <th>3</th>\n",
       "      <td>GP</td>\n",
       "      <td>F</td>\n",
       "      <td>15</td>\n",
       "      <td>U</td>\n",
       "      <td>GT3</td>\n",
       "      <td>T</td>\n",
       "      <td>4</td>\n",
       "      <td>2</td>\n",
       "      <td>health</td>\n",
       "      <td>services</td>\n",
       "      <td>...</td>\n",
       "      <td>3</td>\n",
       "      <td>2</td>\n",
       "      <td>2</td>\n",
       "      <td>1</td>\n",
       "      <td>1</td>\n",
       "      <td>5</td>\n",
       "      <td>0</td>\n",
       "      <td>14</td>\n",
       "      <td>14</td>\n",
       "      <td>14</td>\n",
       "    </tr>\n",
       "    <tr>\n",
       "      <th>4</th>\n",
       "      <td>GP</td>\n",
       "      <td>F</td>\n",
       "      <td>16</td>\n",
       "      <td>U</td>\n",
       "      <td>GT3</td>\n",
       "      <td>T</td>\n",
       "      <td>3</td>\n",
       "      <td>3</td>\n",
       "      <td>other</td>\n",
       "      <td>other</td>\n",
       "      <td>...</td>\n",
       "      <td>4</td>\n",
       "      <td>3</td>\n",
       "      <td>2</td>\n",
       "      <td>1</td>\n",
       "      <td>2</td>\n",
       "      <td>5</td>\n",
       "      <td>0</td>\n",
       "      <td>11</td>\n",
       "      <td>13</td>\n",
       "      <td>13</td>\n",
       "    </tr>\n",
       "  </tbody>\n",
       "</table>\n",
       "<p>5 rows × 33 columns</p>\n",
       "</div>"
      ],
      "text/plain": [
       "  school sex  age address famsize Pstatus  Medu  Fedu     Mjob      Fjob  ...  \\\n",
       "0     GP   F   18       U     GT3       A     4     4  at_home   teacher  ...   \n",
       "1     GP   F   17       U     GT3       T     1     1  at_home     other  ...   \n",
       "2     GP   F   15       U     LE3       T     1     1  at_home     other  ...   \n",
       "3     GP   F   15       U     GT3       T     4     2   health  services  ...   \n",
       "4     GP   F   16       U     GT3       T     3     3    other     other  ...   \n",
       "\n",
       "  famrel freetime  goout  Dalc  Walc health absences  G1  G2  G3  \n",
       "0      4        3      4     1     1      3        4   0  11  11  \n",
       "1      5        3      3     1     1      3        2   9  11  11  \n",
       "2      4        3      2     2     3      3        6  12  13  12  \n",
       "3      3        2      2     1     1      5        0  14  14  14  \n",
       "4      4        3      2     1     2      5        0  11  13  13  \n",
       "\n",
       "[5 rows x 33 columns]"
      ]
     },
     "execution_count": 6,
     "metadata": {},
     "output_type": "execute_result"
    }
   ],
   "source": [
    "df.head()"
   ]
  },
  {
   "cell_type": "code",
   "execution_count": 10,
   "id": "bfcddf6d",
   "metadata": {},
   "outputs": [],
   "source": [
    "# Identify column types\n",
    "categorical_cols = df.select_dtypes(include=[\"object\"]).columns.tolist()\n",
    "numerical_cols = df.select_dtypes(include=[\"int64\", \"float64\"]).columns.tolist()"
   ]
  },
  {
   "cell_type": "code",
   "execution_count": 11,
   "id": "f9c19cf5",
   "metadata": {},
   "outputs": [
    {
     "name": "stdout",
     "output_type": "stream",
     "text": [
      "Categorical columns (17): ['school', 'sex', 'address', 'famsize', 'Pstatus', 'Mjob', 'Fjob', 'reason', 'guardian', 'schoolsup', 'famsup', 'paid', 'activities', 'nursery', 'higher', 'internet', 'romantic']\n",
      "Numerical columns (16): ['age', 'Medu', 'Fedu', 'traveltime', 'studytime', 'failures', 'famrel', 'freetime', 'goout', 'Dalc', 'Walc', 'health', 'absences', 'G1', 'G2', 'G3']\n"
     ]
    }
   ],
   "source": [
    "print(f\"Categorical columns ({len(categorical_cols)}): {categorical_cols}\")\n",
    "print(f\"Numerical columns ({len(numerical_cols)}): {numerical_cols}\")"
   ]
  },
  {
   "cell_type": "code",
   "execution_count": null,
   "id": "60dd08fa",
   "metadata": {},
   "outputs": [
    {
     "name": "stdout",
     "output_type": "stream",
     "text": [
      "Optimized categorical columns for memory efficiency\n"
     ]
    }
   ],
   "source": [
    "# Convert appropriate columns to categories for memory efficiency\n",
    "for col in categorical_cols:\n",
    "    df[col] = df[col].astype(\"category\")\n",
    "\n",
    "print(f\"Optimized categorical columns for memory efficiency\")"
   ]
  },
  {
   "cell_type": "code",
   "execution_count": null,
   "id": "5325b25b",
   "metadata": {},
   "outputs": [
    {
     "data": {
      "application/vnd.microsoft.datawrangler.viewer.v0+json": {
       "columns": [
        {
         "name": "index",
         "rawType": "object",
         "type": "string"
        },
        {
         "name": "0",
         "rawType": "object",
         "type": "unknown"
        }
       ],
       "ref": "0f829679-044d-4de9-bf9d-b1a6fded6f53",
       "rows": [
        [
         "school",
         "category"
        ],
        [
         "sex",
         "category"
        ],
        [
         "age",
         "int64"
        ],
        [
         "address",
         "category"
        ],
        [
         "famsize",
         "category"
        ],
        [
         "Pstatus",
         "category"
        ],
        [
         "Medu",
         "int64"
        ],
        [
         "Fedu",
         "int64"
        ],
        [
         "Mjob",
         "category"
        ],
        [
         "Fjob",
         "category"
        ],
        [
         "reason",
         "category"
        ],
        [
         "guardian",
         "category"
        ],
        [
         "traveltime",
         "int64"
        ],
        [
         "studytime",
         "int64"
        ],
        [
         "failures",
         "int64"
        ],
        [
         "schoolsup",
         "category"
        ],
        [
         "famsup",
         "category"
        ],
        [
         "paid",
         "category"
        ],
        [
         "activities",
         "category"
        ],
        [
         "nursery",
         "category"
        ],
        [
         "higher",
         "category"
        ],
        [
         "internet",
         "category"
        ],
        [
         "romantic",
         "category"
        ],
        [
         "famrel",
         "int64"
        ],
        [
         "freetime",
         "int64"
        ],
        [
         "goout",
         "int64"
        ],
        [
         "Dalc",
         "int64"
        ],
        [
         "Walc",
         "int64"
        ],
        [
         "health",
         "int64"
        ],
        [
         "absences",
         "int64"
        ],
        [
         "G1",
         "int64"
        ],
        [
         "G2",
         "int64"
        ],
        [
         "G3",
         "int64"
        ]
       ],
       "shape": {
        "columns": 1,
        "rows": 33
       }
      },
      "text/plain": [
       "school        category\n",
       "sex           category\n",
       "age              int64\n",
       "address       category\n",
       "famsize       category\n",
       "Pstatus       category\n",
       "Medu             int64\n",
       "Fedu             int64\n",
       "Mjob          category\n",
       "Fjob          category\n",
       "reason        category\n",
       "guardian      category\n",
       "traveltime       int64\n",
       "studytime        int64\n",
       "failures         int64\n",
       "schoolsup     category\n",
       "famsup        category\n",
       "paid          category\n",
       "activities    category\n",
       "nursery       category\n",
       "higher        category\n",
       "internet      category\n",
       "romantic      category\n",
       "famrel           int64\n",
       "freetime         int64\n",
       "goout            int64\n",
       "Dalc             int64\n",
       "Walc             int64\n",
       "health           int64\n",
       "absences         int64\n",
       "G1               int64\n",
       "G2               int64\n",
       "G3               int64\n",
       "dtype: object"
      ]
     },
     "execution_count": 14,
     "metadata": {},
     "output_type": "execute_result"
    }
   ],
   "source": [
    "# Check data types\n",
    "df.dtypes"
   ]
  },
  {
   "cell_type": "markdown",
   "id": "ed770c89",
   "metadata": {},
   "source": [
    "2.1 ONE-HOT ENCODING "
   ]
  },
  {
   "cell_type": "code",
   "execution_count": 15,
   "id": "8009b3b2",
   "metadata": {},
   "outputs": [
    {
     "name": "stdout",
     "output_type": "stream",
     "text": [
      "Columns to encode: ['school', 'sex', 'address', 'famsize', 'Pstatus', 'Mjob', 'Fjob', 'reason', 'guardian', 'schoolsup', 'famsup', 'paid', 'activities', 'nursery', 'higher', 'internet', 'romantic']\n"
     ]
    }
   ],
   "source": [
    "# List of categorical columns to encode\n",
    "cats_to_encode = [col for col in categorical_cols if col in df.columns]\n",
    "print(f\"Columns to encode: {cats_to_encode}\")"
   ]
  },
  {
   "cell_type": "code",
   "execution_count": 16,
   "id": "69c0fc51",
   "metadata": {},
   "outputs": [
    {
     "name": "stdout",
     "output_type": "stream",
     "text": [
      "Shape before encoding: (649, 33)\n",
      "Shape after encoding: (649, 42)\n",
      "New features created: 9\n"
     ]
    }
   ],
   "source": [
    "# Apply one-hot encoding\n",
    "df_encoded = pd.get_dummies(\n",
    "    df, columns=cats_to_encode, prefix=cats_to_encode, drop_first=True\n",
    ")\n",
    "\n",
    "print(f\"Shape before encoding: {df.shape}\")\n",
    "print(f\"Shape after encoding: {df_encoded.shape}\")\n",
    "print(f\"New features created: {df_encoded.shape[1] - df.shape[1]}\")"
   ]
  },
  {
   "cell_type": "code",
   "execution_count": 59,
   "id": "3e14ad64",
   "metadata": {},
   "outputs": [
    {
     "data": {
      "application/vnd.microsoft.datawrangler.viewer.v0+json": {
       "columns": [
        {
         "name": "index",
         "rawType": "int64",
         "type": "integer"
        },
        {
         "name": "age",
         "rawType": "int64",
         "type": "integer"
        },
        {
         "name": "Medu",
         "rawType": "int64",
         "type": "integer"
        },
        {
         "name": "Fedu",
         "rawType": "int64",
         "type": "integer"
        },
        {
         "name": "traveltime",
         "rawType": "int64",
         "type": "integer"
        },
        {
         "name": "studytime",
         "rawType": "int64",
         "type": "integer"
        },
        {
         "name": "failures",
         "rawType": "int64",
         "type": "integer"
        },
        {
         "name": "famrel",
         "rawType": "int64",
         "type": "integer"
        },
        {
         "name": "freetime",
         "rawType": "int64",
         "type": "integer"
        },
        {
         "name": "goout",
         "rawType": "int64",
         "type": "integer"
        },
        {
         "name": "Dalc",
         "rawType": "int64",
         "type": "integer"
        },
        {
         "name": "Walc",
         "rawType": "int64",
         "type": "integer"
        },
        {
         "name": "health",
         "rawType": "int64",
         "type": "integer"
        },
        {
         "name": "absences",
         "rawType": "int64",
         "type": "integer"
        },
        {
         "name": "G1",
         "rawType": "int64",
         "type": "integer"
        },
        {
         "name": "G2",
         "rawType": "int64",
         "type": "integer"
        },
        {
         "name": "G3",
         "rawType": "int64",
         "type": "integer"
        },
        {
         "name": "school_MS",
         "rawType": "bool",
         "type": "boolean"
        },
        {
         "name": "sex_M",
         "rawType": "bool",
         "type": "boolean"
        },
        {
         "name": "address_U",
         "rawType": "bool",
         "type": "boolean"
        },
        {
         "name": "famsize_LE3",
         "rawType": "bool",
         "type": "boolean"
        },
        {
         "name": "Pstatus_T",
         "rawType": "bool",
         "type": "boolean"
        },
        {
         "name": "Mjob_health",
         "rawType": "bool",
         "type": "boolean"
        },
        {
         "name": "Mjob_other",
         "rawType": "bool",
         "type": "boolean"
        },
        {
         "name": "Mjob_services",
         "rawType": "bool",
         "type": "boolean"
        },
        {
         "name": "Mjob_teacher",
         "rawType": "bool",
         "type": "boolean"
        },
        {
         "name": "Fjob_health",
         "rawType": "bool",
         "type": "boolean"
        },
        {
         "name": "Fjob_other",
         "rawType": "bool",
         "type": "boolean"
        },
        {
         "name": "Fjob_services",
         "rawType": "bool",
         "type": "boolean"
        },
        {
         "name": "Fjob_teacher",
         "rawType": "bool",
         "type": "boolean"
        },
        {
         "name": "reason_home",
         "rawType": "bool",
         "type": "boolean"
        },
        {
         "name": "reason_other",
         "rawType": "bool",
         "type": "boolean"
        },
        {
         "name": "reason_reputation",
         "rawType": "bool",
         "type": "boolean"
        },
        {
         "name": "guardian_mother",
         "rawType": "bool",
         "type": "boolean"
        },
        {
         "name": "guardian_other",
         "rawType": "bool",
         "type": "boolean"
        },
        {
         "name": "schoolsup_yes",
         "rawType": "bool",
         "type": "boolean"
        },
        {
         "name": "famsup_yes",
         "rawType": "bool",
         "type": "boolean"
        },
        {
         "name": "paid_yes",
         "rawType": "bool",
         "type": "boolean"
        },
        {
         "name": "activities_yes",
         "rawType": "bool",
         "type": "boolean"
        },
        {
         "name": "nursery_yes",
         "rawType": "bool",
         "type": "boolean"
        },
        {
         "name": "higher_yes",
         "rawType": "bool",
         "type": "boolean"
        },
        {
         "name": "internet_yes",
         "rawType": "bool",
         "type": "boolean"
        },
        {
         "name": "romantic_yes",
         "rawType": "bool",
         "type": "boolean"
        },
        {
         "name": "attendance_rate",
         "rawType": "float64",
         "type": "float"
        },
        {
         "name": "grade_avg",
         "rawType": "float64",
         "type": "float"
        },
        {
         "name": "pass_binary",
         "rawType": "int32",
         "type": "integer"
        },
        {
         "name": "risk_category",
         "rawType": "object",
         "type": "string"
        },
        {
         "name": "study_efficiency",
         "rawType": "float64",
         "type": "float"
        },
        {
         "name": "has_failures",
         "rawType": "int32",
         "type": "integer"
        },
        {
         "name": "family_edu_avg",
         "rawType": "float64",
         "type": "float"
        },
        {
         "name": "family_edu_max",
         "rawType": "int64",
         "type": "integer"
        }
       ],
       "ref": "54b2fcaf-81aa-4041-b36d-44c82d816540",
       "rows": [
        [
         "191",
         "17",
         "3",
         "3",
         "1",
         "2",
         "0",
         "4",
         "3",
         "4",
         "1",
         "4",
         "4",
         "4",
         "11",
         "9",
         "10",
         "False",
         "True",
         "True",
         "False",
         "True",
         "False",
         "True",
         "False",
         "False",
         "False",
         "True",
         "False",
         "False",
         "False",
         "False",
         "True",
         "False",
         "False",
         "False",
         "False",
         "False",
         "True",
         "False",
         "True",
         "True",
         "False",
         "0.7333333333333334",
         "10.0",
         "1",
         "Medium_Risk",
         "3.3333333333333335",
         "0",
         "3.0",
         "3"
        ],
        [
         "244",
         "17",
         "4",
         "3",
         "1",
         "2",
         "0",
         "3",
         "2",
         "3",
         "1",
         "2",
         "3",
         "0",
         "14",
         "12",
         "12",
         "False",
         "False",
         "True",
         "True",
         "True",
         "True",
         "False",
         "False",
         "False",
         "False",
         "True",
         "False",
         "False",
         "False",
         "False",
         "True",
         "False",
         "False",
         "False",
         "False",
         "False",
         "True",
         "True",
         "True",
         "True",
         "True",
         "1.0",
         "12.666666666666666",
         "1",
         "Medium_Risk",
         "4.222222222222222",
         "0",
         "3.5",
         "4"
        ],
        [
         "270",
         "16",
         "4",
         "4",
         "1",
         "1",
         "0",
         "5",
         "3",
         "2",
         "1",
         "2",
         "5",
         "4",
         "14",
         "15",
         "15",
         "False",
         "True",
         "True",
         "False",
         "True",
         "False",
         "False",
         "True",
         "False",
         "False",
         "False",
         "True",
         "False",
         "False",
         "False",
         "False",
         "True",
         "False",
         "False",
         "False",
         "True",
         "True",
         "True",
         "True",
         "True",
         "False",
         "0.7333333333333334",
         "14.666666666666666",
         "1",
         "Low_Risk",
         "7.333333333333333",
         "0",
         "4.0",
         "4"
        ]
       ],
       "shape": {
        "columns": 50,
        "rows": 3
       }
      },
      "text/html": [
       "<div>\n",
       "<style scoped>\n",
       "    .dataframe tbody tr th:only-of-type {\n",
       "        vertical-align: middle;\n",
       "    }\n",
       "\n",
       "    .dataframe tbody tr th {\n",
       "        vertical-align: top;\n",
       "    }\n",
       "\n",
       "    .dataframe thead th {\n",
       "        text-align: right;\n",
       "    }\n",
       "</style>\n",
       "<table border=\"1\" class=\"dataframe\">\n",
       "  <thead>\n",
       "    <tr style=\"text-align: right;\">\n",
       "      <th></th>\n",
       "      <th>age</th>\n",
       "      <th>Medu</th>\n",
       "      <th>Fedu</th>\n",
       "      <th>traveltime</th>\n",
       "      <th>studytime</th>\n",
       "      <th>failures</th>\n",
       "      <th>famrel</th>\n",
       "      <th>freetime</th>\n",
       "      <th>goout</th>\n",
       "      <th>Dalc</th>\n",
       "      <th>...</th>\n",
       "      <th>internet_yes</th>\n",
       "      <th>romantic_yes</th>\n",
       "      <th>attendance_rate</th>\n",
       "      <th>grade_avg</th>\n",
       "      <th>pass_binary</th>\n",
       "      <th>risk_category</th>\n",
       "      <th>study_efficiency</th>\n",
       "      <th>has_failures</th>\n",
       "      <th>family_edu_avg</th>\n",
       "      <th>family_edu_max</th>\n",
       "    </tr>\n",
       "  </thead>\n",
       "  <tbody>\n",
       "    <tr>\n",
       "      <th>191</th>\n",
       "      <td>17</td>\n",
       "      <td>3</td>\n",
       "      <td>3</td>\n",
       "      <td>1</td>\n",
       "      <td>2</td>\n",
       "      <td>0</td>\n",
       "      <td>4</td>\n",
       "      <td>3</td>\n",
       "      <td>4</td>\n",
       "      <td>1</td>\n",
       "      <td>...</td>\n",
       "      <td>True</td>\n",
       "      <td>False</td>\n",
       "      <td>0.733333</td>\n",
       "      <td>10.000000</td>\n",
       "      <td>1</td>\n",
       "      <td>Medium_Risk</td>\n",
       "      <td>3.333333</td>\n",
       "      <td>0</td>\n",
       "      <td>3.0</td>\n",
       "      <td>3</td>\n",
       "    </tr>\n",
       "    <tr>\n",
       "      <th>244</th>\n",
       "      <td>17</td>\n",
       "      <td>4</td>\n",
       "      <td>3</td>\n",
       "      <td>1</td>\n",
       "      <td>2</td>\n",
       "      <td>0</td>\n",
       "      <td>3</td>\n",
       "      <td>2</td>\n",
       "      <td>3</td>\n",
       "      <td>1</td>\n",
       "      <td>...</td>\n",
       "      <td>True</td>\n",
       "      <td>True</td>\n",
       "      <td>1.000000</td>\n",
       "      <td>12.666667</td>\n",
       "      <td>1</td>\n",
       "      <td>Medium_Risk</td>\n",
       "      <td>4.222222</td>\n",
       "      <td>0</td>\n",
       "      <td>3.5</td>\n",
       "      <td>4</td>\n",
       "    </tr>\n",
       "    <tr>\n",
       "      <th>270</th>\n",
       "      <td>16</td>\n",
       "      <td>4</td>\n",
       "      <td>4</td>\n",
       "      <td>1</td>\n",
       "      <td>1</td>\n",
       "      <td>0</td>\n",
       "      <td>5</td>\n",
       "      <td>3</td>\n",
       "      <td>2</td>\n",
       "      <td>1</td>\n",
       "      <td>...</td>\n",
       "      <td>True</td>\n",
       "      <td>False</td>\n",
       "      <td>0.733333</td>\n",
       "      <td>14.666667</td>\n",
       "      <td>1</td>\n",
       "      <td>Low_Risk</td>\n",
       "      <td>7.333333</td>\n",
       "      <td>0</td>\n",
       "      <td>4.0</td>\n",
       "      <td>4</td>\n",
       "    </tr>\n",
       "  </tbody>\n",
       "</table>\n",
       "<p>3 rows × 50 columns</p>\n",
       "</div>"
      ],
      "text/plain": [
       "     age  Medu  Fedu  traveltime  studytime  failures  famrel  freetime  \\\n",
       "191   17     3     3           1          2         0       4         3   \n",
       "244   17     4     3           1          2         0       3         2   \n",
       "270   16     4     4           1          1         0       5         3   \n",
       "\n",
       "     goout  Dalc  ...  internet_yes  romantic_yes  attendance_rate  grade_avg  \\\n",
       "191      4     1  ...          True         False         0.733333  10.000000   \n",
       "244      3     1  ...          True          True         1.000000  12.666667   \n",
       "270      2     1  ...          True         False         0.733333  14.666667   \n",
       "\n",
       "     pass_binary  risk_category  study_efficiency  has_failures  \\\n",
       "191            1    Medium_Risk          3.333333             0   \n",
       "244            1    Medium_Risk          4.222222             0   \n",
       "270            1       Low_Risk          7.333333             0   \n",
       "\n",
       "     family_edu_avg  family_edu_max  \n",
       "191             3.0               3  \n",
       "244             3.5               4  \n",
       "270             4.0               4  \n",
       "\n",
       "[3 rows x 50 columns]"
      ]
     },
     "execution_count": 59,
     "metadata": {},
     "output_type": "execute_result"
    }
   ],
   "source": [
    "df_encoded.sample(3)"
   ]
  },
  {
   "cell_type": "markdown",
   "id": "60ebff22",
   "metadata": {},
   "source": [
    "2.2 FEATURE ENGINEERING"
   ]
  },
  {
   "cell_type": "code",
   "execution_count": null,
   "id": "63ca99af",
   "metadata": {},
   "outputs": [
    {
     "name": "stdout",
     "output_type": "stream",
     "text": [
      "Created 'attendance_rate' feature\n"
     ]
    }
   ],
   "source": [
    "# Create attendance proxy from absences\n",
    "df_encoded[\"attendance_rate\"] = 1 - (\n",
    "    df_encoded[\"absences\"] / df_encoded[\"absences\"].max()\n",
    ")\n",
    "print(\"Created 'attendance_rate' feature\")"
   ]
  },
  {
   "cell_type": "code",
   "execution_count": null,
   "id": "39a56fe2",
   "metadata": {},
   "outputs": [
    {
     "name": "stdout",
     "output_type": "stream",
     "text": [
      "Created 'grade_avg' feature\n"
     ]
    }
   ],
   "source": [
    "# Create average grade from G1, G2, G3\n",
    "if all(col in df_encoded.columns for col in [\"G1\", \"G2\", \"G3\"]):\n",
    "    df_encoded[\"grade_avg\"] = (\n",
    "        df_encoded[\"G1\"] + df_encoded[\"G2\"] + df_encoded[\"G3\"]\n",
    "    ) / 3\n",
    "    print(\"Created 'grade_avg' feature\")"
   ]
  },
  {
   "cell_type": "code",
   "execution_count": 25,
   "id": "bba5299d",
   "metadata": {},
   "outputs": [
    {
     "name": "stdout",
     "output_type": "stream",
     "text": [
      "Created 'pass_binary' target (pass rate: 84.6%)\n"
     ]
    }
   ],
   "source": [
    "# Create binary pass/fail target\n",
    "df_encoded[\"pass_binary\"] = (df_encoded[\"G3\"] >= 10).astype(int)\n",
    "pass_rate = df_encoded[\"pass_binary\"].mean()\n",
    "print(f\"Created 'pass_binary' target (pass rate: {pass_rate:.1%})\")"
   ]
  },
  {
   "cell_type": "code",
   "execution_count": 26,
   "id": "b7946935",
   "metadata": {},
   "outputs": [],
   "source": [
    "# Create 3-tier risk classification\n",
    "def create_risk_categories(g3_score):\n",
    "    if g3_score >= 14:\n",
    "        return \"Low_Risk\"\n",
    "    elif g3_score >= 10:\n",
    "        return \"Medium_Risk\"\n",
    "    else:\n",
    "        return \"High_Risk\""
   ]
  },
  {
   "cell_type": "code",
   "execution_count": null,
   "id": "80a0953e",
   "metadata": {},
   "outputs": [],
   "source": [
    "# Create risk category from G3\n",
    "df_encoded['risk_category'] = df_encoded['G3'].apply(create_risk_categories)\n",
    "risk_dist = df_encoded['risk_category'].value_counts(normalize=True)"
   ]
  },
  {
   "cell_type": "code",
   "execution_count": null,
   "id": "3292f8aa",
   "metadata": {},
   "outputs": [
    {
     "name": "stdout",
     "output_type": "stream",
     "text": [
      "Created 'risk_category' target:\n",
      "Medium_Risk: 54.7%\n",
      "Low_Risk: 29.9%\n",
      "High_Risk: 15.4%\n"
     ]
    }
   ],
   "source": [
    "# Display risk category distribution\n",
    "print(f\"Created 'risk_category' target:\")\n",
    "for risk, percent in risk_dist.items():\n",
    "    print(f\"{risk}: {percent:.1%}\")"
   ]
  },
  {
   "cell_type": "code",
   "execution_count": null,
   "id": "9d234b1b",
   "metadata": {},
   "outputs": [
    {
     "name": "stdout",
     "output_type": "stream",
     "text": [
      "Created 'study_efficiency' feature\n"
     ]
    }
   ],
   "source": [
    "# Create study efficiency metric\n",
    "df_encoded[\"study_efficiency\"] = df_encoded[\"grade_avg\"] / (\n",
    "    df_encoded[\"studytime\"] + 1\n",
    ")  # +1 to avoid division by zero\n",
    "print(\" Created 'study_efficiency' feature\")"
   ]
  },
  {
   "cell_type": "code",
   "execution_count": null,
   "id": "8fe88f23",
   "metadata": {},
   "outputs": [
    {
     "name": "stdout",
     "output_type": "stream",
     "text": [
      "Created 'has_failures' feature\n"
     ]
    }
   ],
   "source": [
    "# Create failure history indicator\n",
    "df_encoded[\"has_failures\"] = (df_encoded[\"failures\"] > 0).astype(int)\n",
    "print(\"Created 'has_failures' feature\")"
   ]
  },
  {
   "cell_type": "code",
   "execution_count": null,
   "id": "dca3f7f7",
   "metadata": {},
   "outputs": [
    {
     "name": "stdout",
     "output_type": "stream",
     "text": [
      "\n",
      "Final shape after feature engineering: (649, 50)\n"
     ]
    }
   ],
   "source": [
    "# Create family education level (combine Medu and Fedu)\n",
    "df_encoded[\"family_edu_avg\"] = (df_encoded[\"Medu\"] + df_encoded[\"Fedu\"]) / 2\n",
    "df_encoded[\"family_edu_max\"] = df_encoded[[\"Medu\", \"Fedu\"]].max(axis=1)\n",
    "\n",
    "print(f\"\\nFinal shape after feature engineering: {df_encoded.shape}\")"
   ]
  },
  {
   "cell_type": "code",
   "execution_count": 36,
   "id": "aaf9d69a",
   "metadata": {},
   "outputs": [
    {
     "data": {
      "application/vnd.microsoft.datawrangler.viewer.v0+json": {
       "columns": [
        {
         "name": "index",
         "rawType": "int64",
         "type": "integer"
        },
        {
         "name": "age",
         "rawType": "int64",
         "type": "integer"
        },
        {
         "name": "Medu",
         "rawType": "int64",
         "type": "integer"
        },
        {
         "name": "Fedu",
         "rawType": "int64",
         "type": "integer"
        },
        {
         "name": "traveltime",
         "rawType": "int64",
         "type": "integer"
        },
        {
         "name": "studytime",
         "rawType": "int64",
         "type": "integer"
        },
        {
         "name": "failures",
         "rawType": "int64",
         "type": "integer"
        },
        {
         "name": "famrel",
         "rawType": "int64",
         "type": "integer"
        },
        {
         "name": "freetime",
         "rawType": "int64",
         "type": "integer"
        },
        {
         "name": "goout",
         "rawType": "int64",
         "type": "integer"
        },
        {
         "name": "Dalc",
         "rawType": "int64",
         "type": "integer"
        },
        {
         "name": "Walc",
         "rawType": "int64",
         "type": "integer"
        },
        {
         "name": "health",
         "rawType": "int64",
         "type": "integer"
        },
        {
         "name": "absences",
         "rawType": "int64",
         "type": "integer"
        },
        {
         "name": "G1",
         "rawType": "int64",
         "type": "integer"
        },
        {
         "name": "G2",
         "rawType": "int64",
         "type": "integer"
        },
        {
         "name": "G3",
         "rawType": "int64",
         "type": "integer"
        },
        {
         "name": "school_MS",
         "rawType": "bool",
         "type": "boolean"
        },
        {
         "name": "sex_M",
         "rawType": "bool",
         "type": "boolean"
        },
        {
         "name": "address_U",
         "rawType": "bool",
         "type": "boolean"
        },
        {
         "name": "famsize_LE3",
         "rawType": "bool",
         "type": "boolean"
        },
        {
         "name": "Pstatus_T",
         "rawType": "bool",
         "type": "boolean"
        },
        {
         "name": "Mjob_health",
         "rawType": "bool",
         "type": "boolean"
        },
        {
         "name": "Mjob_other",
         "rawType": "bool",
         "type": "boolean"
        },
        {
         "name": "Mjob_services",
         "rawType": "bool",
         "type": "boolean"
        },
        {
         "name": "Mjob_teacher",
         "rawType": "bool",
         "type": "boolean"
        },
        {
         "name": "Fjob_health",
         "rawType": "bool",
         "type": "boolean"
        },
        {
         "name": "Fjob_other",
         "rawType": "bool",
         "type": "boolean"
        },
        {
         "name": "Fjob_services",
         "rawType": "bool",
         "type": "boolean"
        },
        {
         "name": "Fjob_teacher",
         "rawType": "bool",
         "type": "boolean"
        },
        {
         "name": "reason_home",
         "rawType": "bool",
         "type": "boolean"
        },
        {
         "name": "reason_other",
         "rawType": "bool",
         "type": "boolean"
        },
        {
         "name": "reason_reputation",
         "rawType": "bool",
         "type": "boolean"
        },
        {
         "name": "guardian_mother",
         "rawType": "bool",
         "type": "boolean"
        },
        {
         "name": "guardian_other",
         "rawType": "bool",
         "type": "boolean"
        },
        {
         "name": "schoolsup_yes",
         "rawType": "bool",
         "type": "boolean"
        },
        {
         "name": "famsup_yes",
         "rawType": "bool",
         "type": "boolean"
        },
        {
         "name": "paid_yes",
         "rawType": "bool",
         "type": "boolean"
        },
        {
         "name": "activities_yes",
         "rawType": "bool",
         "type": "boolean"
        },
        {
         "name": "nursery_yes",
         "rawType": "bool",
         "type": "boolean"
        },
        {
         "name": "higher_yes",
         "rawType": "bool",
         "type": "boolean"
        },
        {
         "name": "internet_yes",
         "rawType": "bool",
         "type": "boolean"
        },
        {
         "name": "romantic_yes",
         "rawType": "bool",
         "type": "boolean"
        },
        {
         "name": "attendance_rate",
         "rawType": "float64",
         "type": "float"
        },
        {
         "name": "grade_avg",
         "rawType": "float64",
         "type": "float"
        },
        {
         "name": "pass_binary",
         "rawType": "int32",
         "type": "integer"
        },
        {
         "name": "risk_category",
         "rawType": "object",
         "type": "string"
        },
        {
         "name": "study_efficiency",
         "rawType": "float64",
         "type": "float"
        },
        {
         "name": "has_failures",
         "rawType": "int32",
         "type": "integer"
        },
        {
         "name": "family_edu_avg",
         "rawType": "float64",
         "type": "float"
        },
        {
         "name": "family_edu_max",
         "rawType": "int64",
         "type": "integer"
        }
       ],
       "ref": "a8c68083-2be2-4609-acae-12d5d1c722cb",
       "rows": [
        [
         "408",
         "18",
         "2",
         "2",
         "1",
         "2",
         "0",
         "4",
         "4",
         "4",
         "1",
         "3",
         "3",
         "11",
         "9",
         "11",
         "12",
         "False",
         "True",
         "True",
         "True",
         "True",
         "False",
         "False",
         "True",
         "False",
         "False",
         "False",
         "True",
         "False",
         "False",
         "False",
         "True",
         "True",
         "False",
         "False",
         "True",
         "False",
         "True",
         "False",
         "False",
         "True",
         "False",
         "0.2666666666666667",
         "10.666666666666666",
         "1",
         "Medium_Risk",
         "3.5555555555555554",
         "0",
         "2.0",
         "2"
        ],
        [
         "188",
         "16",
         "3",
         "3",
         "2",
         "2",
         "0",
         "4",
         "4",
         "5",
         "1",
         "1",
         "4",
         "0",
         "14",
         "14",
         "15",
         "False",
         "False",
         "True",
         "True",
         "True",
         "False",
         "True",
         "False",
         "False",
         "False",
         "True",
         "False",
         "False",
         "False",
         "False",
         "True",
         "True",
         "False",
         "False",
         "True",
         "False",
         "True",
         "True",
         "True",
         "True",
         "False",
         "1.0",
         "14.333333333333334",
         "1",
         "Low_Risk",
         "4.777777777777778",
         "0",
         "3.0",
         "3"
        ],
        [
         "299",
         "20",
         "2",
         "1",
         "2",
         "2",
         "0",
         "1",
         "2",
         "3",
         "1",
         "2",
         "2",
         "8",
         "10",
         "12",
         "12",
         "False",
         "False",
         "False",
         "False",
         "True",
         "False",
         "True",
         "False",
         "False",
         "False",
         "True",
         "False",
         "False",
         "False",
         "False",
         "False",
         "False",
         "True",
         "False",
         "True",
         "True",
         "True",
         "True",
         "False",
         "True",
         "True",
         "0.4666666666666667",
         "11.333333333333334",
         "1",
         "Medium_Risk",
         "3.777777777777778",
         "0",
         "1.5",
         "2"
        ],
        [
         "82",
         "15",
         "3",
         "2",
         "1",
         "2",
         "0",
         "4",
         "4",
         "4",
         "1",
         "1",
         "5",
         "4",
         "12",
         "11",
         "11",
         "False",
         "False",
         "True",
         "True",
         "True",
         "False",
         "False",
         "True",
         "False",
         "False",
         "True",
         "False",
         "False",
         "False",
         "False",
         "True",
         "True",
         "False",
         "False",
         "True",
         "False",
         "False",
         "True",
         "True",
         "True",
         "False",
         "0.7333333333333334",
         "11.333333333333334",
         "1",
         "Medium_Risk",
         "3.777777777777778",
         "0",
         "2.5",
         "3"
        ],
        [
         "283",
         "16",
         "3",
         "3",
         "3",
         "2",
         "1",
         "5",
         "3",
         "3",
         "1",
         "3",
         "2",
         "4",
         "9",
         "11",
         "10",
         "False",
         "True",
         "True",
         "False",
         "True",
         "False",
         "False",
         "False",
         "False",
         "False",
         "True",
         "False",
         "False",
         "False",
         "False",
         "True",
         "False",
         "True",
         "True",
         "True",
         "False",
         "False",
         "False",
         "True",
         "True",
         "False",
         "0.7333333333333334",
         "10.0",
         "1",
         "Medium_Risk",
         "3.3333333333333335",
         "1",
         "3.0",
         "3"
        ]
       ],
       "shape": {
        "columns": 50,
        "rows": 5
       }
      },
      "text/html": [
       "<div>\n",
       "<style scoped>\n",
       "    .dataframe tbody tr th:only-of-type {\n",
       "        vertical-align: middle;\n",
       "    }\n",
       "\n",
       "    .dataframe tbody tr th {\n",
       "        vertical-align: top;\n",
       "    }\n",
       "\n",
       "    .dataframe thead th {\n",
       "        text-align: right;\n",
       "    }\n",
       "</style>\n",
       "<table border=\"1\" class=\"dataframe\">\n",
       "  <thead>\n",
       "    <tr style=\"text-align: right;\">\n",
       "      <th></th>\n",
       "      <th>age</th>\n",
       "      <th>Medu</th>\n",
       "      <th>Fedu</th>\n",
       "      <th>traveltime</th>\n",
       "      <th>studytime</th>\n",
       "      <th>failures</th>\n",
       "      <th>famrel</th>\n",
       "      <th>freetime</th>\n",
       "      <th>goout</th>\n",
       "      <th>Dalc</th>\n",
       "      <th>...</th>\n",
       "      <th>internet_yes</th>\n",
       "      <th>romantic_yes</th>\n",
       "      <th>attendance_rate</th>\n",
       "      <th>grade_avg</th>\n",
       "      <th>pass_binary</th>\n",
       "      <th>risk_category</th>\n",
       "      <th>study_efficiency</th>\n",
       "      <th>has_failures</th>\n",
       "      <th>family_edu_avg</th>\n",
       "      <th>family_edu_max</th>\n",
       "    </tr>\n",
       "  </thead>\n",
       "  <tbody>\n",
       "    <tr>\n",
       "      <th>408</th>\n",
       "      <td>18</td>\n",
       "      <td>2</td>\n",
       "      <td>2</td>\n",
       "      <td>1</td>\n",
       "      <td>2</td>\n",
       "      <td>0</td>\n",
       "      <td>4</td>\n",
       "      <td>4</td>\n",
       "      <td>4</td>\n",
       "      <td>1</td>\n",
       "      <td>...</td>\n",
       "      <td>True</td>\n",
       "      <td>False</td>\n",
       "      <td>0.266667</td>\n",
       "      <td>10.666667</td>\n",
       "      <td>1</td>\n",
       "      <td>Medium_Risk</td>\n",
       "      <td>3.555556</td>\n",
       "      <td>0</td>\n",
       "      <td>2.0</td>\n",
       "      <td>2</td>\n",
       "    </tr>\n",
       "    <tr>\n",
       "      <th>188</th>\n",
       "      <td>16</td>\n",
       "      <td>3</td>\n",
       "      <td>3</td>\n",
       "      <td>2</td>\n",
       "      <td>2</td>\n",
       "      <td>0</td>\n",
       "      <td>4</td>\n",
       "      <td>4</td>\n",
       "      <td>5</td>\n",
       "      <td>1</td>\n",
       "      <td>...</td>\n",
       "      <td>True</td>\n",
       "      <td>False</td>\n",
       "      <td>1.000000</td>\n",
       "      <td>14.333333</td>\n",
       "      <td>1</td>\n",
       "      <td>Low_Risk</td>\n",
       "      <td>4.777778</td>\n",
       "      <td>0</td>\n",
       "      <td>3.0</td>\n",
       "      <td>3</td>\n",
       "    </tr>\n",
       "    <tr>\n",
       "      <th>299</th>\n",
       "      <td>20</td>\n",
       "      <td>2</td>\n",
       "      <td>1</td>\n",
       "      <td>2</td>\n",
       "      <td>2</td>\n",
       "      <td>0</td>\n",
       "      <td>1</td>\n",
       "      <td>2</td>\n",
       "      <td>3</td>\n",
       "      <td>1</td>\n",
       "      <td>...</td>\n",
       "      <td>True</td>\n",
       "      <td>True</td>\n",
       "      <td>0.466667</td>\n",
       "      <td>11.333333</td>\n",
       "      <td>1</td>\n",
       "      <td>Medium_Risk</td>\n",
       "      <td>3.777778</td>\n",
       "      <td>0</td>\n",
       "      <td>1.5</td>\n",
       "      <td>2</td>\n",
       "    </tr>\n",
       "    <tr>\n",
       "      <th>82</th>\n",
       "      <td>15</td>\n",
       "      <td>3</td>\n",
       "      <td>2</td>\n",
       "      <td>1</td>\n",
       "      <td>2</td>\n",
       "      <td>0</td>\n",
       "      <td>4</td>\n",
       "      <td>4</td>\n",
       "      <td>4</td>\n",
       "      <td>1</td>\n",
       "      <td>...</td>\n",
       "      <td>True</td>\n",
       "      <td>False</td>\n",
       "      <td>0.733333</td>\n",
       "      <td>11.333333</td>\n",
       "      <td>1</td>\n",
       "      <td>Medium_Risk</td>\n",
       "      <td>3.777778</td>\n",
       "      <td>0</td>\n",
       "      <td>2.5</td>\n",
       "      <td>3</td>\n",
       "    </tr>\n",
       "    <tr>\n",
       "      <th>283</th>\n",
       "      <td>16</td>\n",
       "      <td>3</td>\n",
       "      <td>3</td>\n",
       "      <td>3</td>\n",
       "      <td>2</td>\n",
       "      <td>1</td>\n",
       "      <td>5</td>\n",
       "      <td>3</td>\n",
       "      <td>3</td>\n",
       "      <td>1</td>\n",
       "      <td>...</td>\n",
       "      <td>True</td>\n",
       "      <td>False</td>\n",
       "      <td>0.733333</td>\n",
       "      <td>10.000000</td>\n",
       "      <td>1</td>\n",
       "      <td>Medium_Risk</td>\n",
       "      <td>3.333333</td>\n",
       "      <td>1</td>\n",
       "      <td>3.0</td>\n",
       "      <td>3</td>\n",
       "    </tr>\n",
       "  </tbody>\n",
       "</table>\n",
       "<p>5 rows × 50 columns</p>\n",
       "</div>"
      ],
      "text/plain": [
       "     age  Medu  Fedu  traveltime  studytime  failures  famrel  freetime  \\\n",
       "408   18     2     2           1          2         0       4         4   \n",
       "188   16     3     3           2          2         0       4         4   \n",
       "299   20     2     1           2          2         0       1         2   \n",
       "82    15     3     2           1          2         0       4         4   \n",
       "283   16     3     3           3          2         1       5         3   \n",
       "\n",
       "     goout  Dalc  ...  internet_yes  romantic_yes  attendance_rate  grade_avg  \\\n",
       "408      4     1  ...          True         False         0.266667  10.666667   \n",
       "188      5     1  ...          True         False         1.000000  14.333333   \n",
       "299      3     1  ...          True          True         0.466667  11.333333   \n",
       "82       4     1  ...          True         False         0.733333  11.333333   \n",
       "283      3     1  ...          True         False         0.733333  10.000000   \n",
       "\n",
       "     pass_binary  risk_category  study_efficiency  has_failures  \\\n",
       "408            1    Medium_Risk          3.555556             0   \n",
       "188            1       Low_Risk          4.777778             0   \n",
       "299            1    Medium_Risk          3.777778             0   \n",
       "82             1    Medium_Risk          3.777778             0   \n",
       "283            1    Medium_Risk          3.333333             1   \n",
       "\n",
       "     family_edu_avg  family_edu_max  \n",
       "408             2.0               2  \n",
       "188             3.0               3  \n",
       "299             1.5               2  \n",
       "82              2.5               3  \n",
       "283             3.0               3  \n",
       "\n",
       "[5 rows x 50 columns]"
      ]
     },
     "execution_count": 36,
     "metadata": {},
     "output_type": "execute_result"
    }
   ],
   "source": [
    "df_encoded.sample(5)"
   ]
  },
  {
   "cell_type": "code",
   "execution_count": 37,
   "id": "26f7a5a1",
   "metadata": {},
   "outputs": [
    {
     "name": "stdout",
     "output_type": "stream",
     "text": [
      "NNumber of rows: 649\n",
      "Number of columns: 50\n"
     ]
    }
   ],
   "source": [
    "# Display number of rows and columns\n",
    "print('NNumber of rows:', df_encoded.shape[0])\n",
    "print('Number of columns:', df_encoded.shape[1])"
   ]
  },
  {
   "cell_type": "markdown",
   "id": "d303c05a",
   "metadata": {},
   "source": [
    "2.3 PREPARE DATASETS FOR ANALYSIS"
   ]
  },
  {
   "cell_type": "code",
   "execution_count": null,
   "id": "c52ec78c",
   "metadata": {},
   "outputs": [],
   "source": [
    "# Dataset Without G1/G2 (no leakage)\n",
    "leakage_cols = [\"G1\", \"G2\", \"grade_avg\"]  # grade_avg contains G1/G2\n",
    "df_no_leakage = df_encoded.drop(\n",
    "    columns=[col for col in leakage_cols if col in df_encoded.columns]\n",
    ")"
   ]
  },
  {
   "cell_type": "code",
   "execution_count": null,
   "id": "503db03a",
   "metadata": {},
   "outputs": [
    {
     "name": "stdout",
     "output_type": "stream",
     "text": [
      "Dataset WITHOUT G1/G2 leakage: (649, 47)\n",
      "Dataset WITH G1/G2 included: (649, 50)\n"
     ]
    }
   ],
   "source": [
    "# Dataset With G1/G2 (potential leakage)\n",
    "df_with_leakage = df_encoded.copy()\n",
    "\n",
    "print(f\"Dataset WITHOUT G1/G2 leakage: {df_no_leakage.shape}\")\n",
    "print(f\"Dataset WITH G1/G2 included: {df_with_leakage.shape}\")"
   ]
  },
  {
   "cell_type": "markdown",
   "id": "b43d5e2f",
   "metadata": {},
   "source": [
    "2.4 FEATURE SCALING FOR ML "
   ]
  },
  {
   "cell_type": "code",
   "execution_count": 40,
   "id": "93333b6f",
   "metadata": {},
   "outputs": [],
   "source": [
    "def prepare_features_and_targets(df, target_col=\"G3\", exclude_cols=None):\n",
    "    \"\"\"Prepare features and targets with scaling\"\"\"\n",
    "    if exclude_cols is None:\n",
    "        exclude_cols = [\"G3\", \"pass_binary\", \"risk_category\"]\n",
    "\n",
    "    # Separate features from targets\n",
    "    feature_cols = [col for col in df.columns if col not in exclude_cols]\n",
    "    X = df[feature_cols]\n",
    "\n",
    "    # Get numerical columns for scaling\n",
    "    numerical_features = X.select_dtypes(include=[\"int64\", \"float64\"]).columns\n",
    "\n",
    "    # Scale numerical features\n",
    "    scaler = StandardScaler()\n",
    "    X_scaled = X.copy()\n",
    "    X_scaled[numerical_features] = scaler.fit_transform(X[numerical_features])\n",
    "\n",
    "    # Prepare targets\n",
    "    y_continuous = df[target_col] if target_col in df.columns else None\n",
    "    y_binary = df[\"pass_binary\"] if \"pass_binary\" in df.columns else None\n",
    "    y_multiclass = df[\"risk_category\"] if \"risk_category\" in df.columns else None\n",
    "\n",
    "    return X_scaled, y_continuous, y_binary, y_multiclass, scaler"
   ]
  },
  {
   "cell_type": "code",
   "execution_count": 41,
   "id": "1624eb0b",
   "metadata": {},
   "outputs": [
    {
     "name": "stdout",
     "output_type": "stream",
     "text": [
      "Preparing dataset WITHOUT G1/G2 leakage...\n"
     ]
    }
   ],
   "source": [
    "print(\"Preparing dataset WITHOUT G1/G2 leakage...\")\n",
    "X_no_leak, y_cont_no_leak, y_bin_no_leak, y_multi_no_leak, scaler_no_leak = (\n",
    "    prepare_features_and_targets(df_no_leakage)\n",
    ")"
   ]
  },
  {
   "cell_type": "code",
   "execution_count": 42,
   "id": "dbc6eb2b",
   "metadata": {},
   "outputs": [
    {
     "name": "stdout",
     "output_type": "stream",
     "text": [
      "Preparing dataset WITH G1/G2...\n"
     ]
    }
   ],
   "source": [
    "print(\"Preparing dataset WITH G1/G2...\")\n",
    "X_with_leak, y_cont_with_leak, y_bin_with_leak, y_multi_with_leak, scaler_with_leak = (\n",
    "    prepare_features_and_targets(df_with_leakage)\n",
    ")"
   ]
  },
  {
   "cell_type": "code",
   "execution_count": 43,
   "id": "8252cc4e",
   "metadata": {},
   "outputs": [
    {
     "name": "stdout",
     "output_type": "stream",
     "text": [
      "Features (no leakage): (649, 44)\n",
      "Features (with G1/G2): (649, 47)\n"
     ]
    }
   ],
   "source": [
    "print(f\"Features (no leakage): {X_no_leak.shape}\")\n",
    "print(f\"Features (with G1/G2): {X_with_leak.shape}\")"
   ]
  },
  {
   "cell_type": "markdown",
   "id": "e6065e7e",
   "metadata": {},
   "source": [
    "2.5 CLUSTERING FEATURE SELECTION"
   ]
  },
  {
   "cell_type": "code",
   "execution_count": 44,
   "id": "048c8f0d",
   "metadata": {},
   "outputs": [],
   "source": [
    "# Select behavioral features for clustering\n",
    "clustering_features = [\"studytime\", \"absences\", \"goout\", \"freetime\", \"attendance_rate\"]"
   ]
  },
  {
   "cell_type": "code",
   "execution_count": 45,
   "id": "e1ac2c00",
   "metadata": {},
   "outputs": [],
   "source": [
    "# Add encoded versions of categorical behavioral features\n",
    "behavioral_cats = [\n",
    "    \"famsup\",\n",
    "    \"schoolsup\",\n",
    "    \"paid\",\n",
    "    \"activities\",\n",
    "    \"higher\",\n",
    "    \"internet\",\n",
    "    \"romantic\",\n",
    "]\n",
    "for cat in behavioral_cats:\n",
    "    # Find encoded columns that start with the category name\n",
    "    encoded_cols = [col for col in df_encoded.columns if col.startswith(f\"{cat}_\")]\n",
    "    clustering_features.extend(encoded_cols)"
   ]
  },
  {
   "cell_type": "code",
   "execution_count": 46,
   "id": "faf94db8",
   "metadata": {},
   "outputs": [
    {
     "name": "stdout",
     "output_type": "stream",
     "text": [
      "Selected clustering features (12):\n",
      "  - studytime\n",
      "  - absences\n",
      "  - goout\n",
      "  - freetime\n",
      "  - attendance_rate\n",
      "  - famsup_yes\n",
      "  - schoolsup_yes\n",
      "  - paid_yes\n",
      "  - activities_yes\n",
      "  - higher_yes\n",
      "  - internet_yes\n",
      "  - romantic_yes\n"
     ]
    }
   ],
   "source": [
    "# Select available features\n",
    "available_clustering_features = [\n",
    "    col for col in clustering_features if col in df_encoded.columns\n",
    "]\n",
    "print(f\"Selected clustering features ({len(available_clustering_features)}):\")\n",
    "for feat in available_clustering_features:\n",
    "    print(f\"  - {feat}\")"
   ]
  },
  {
   "cell_type": "code",
   "execution_count": 47,
   "id": "483bc8ea",
   "metadata": {},
   "outputs": [],
   "source": [
    "# Prepare clustering dataset\n",
    "X_clustering = df_encoded[available_clustering_features].copy()"
   ]
  },
  {
   "cell_type": "code",
   "execution_count": 48,
   "id": "c4cfff5c",
   "metadata": {},
   "outputs": [],
   "source": [
    "# Scale clustering features\n",
    "scaler_clustering = StandardScaler()\n",
    "X_clustering_scaled = pd.DataFrame(\n",
    "    scaler_clustering.fit_transform(X_clustering),\n",
    "    columns=X_clustering.columns,\n",
    "    index=X_clustering.index,\n",
    ")"
   ]
  },
  {
   "cell_type": "code",
   "execution_count": 49,
   "id": "79bcd6d9",
   "metadata": {},
   "outputs": [
    {
     "name": "stdout",
     "output_type": "stream",
     "text": [
      "Clustering dataset prepared: (649, 12)\n"
     ]
    }
   ],
   "source": [
    "print(f\"Clustering dataset prepared: {X_clustering_scaled.shape}\")"
   ]
  },
  {
   "cell_type": "code",
   "execution_count": 66,
   "id": "f50c5751",
   "metadata": {},
   "outputs": [
    {
     "data": {
      "application/vnd.microsoft.datawrangler.viewer.v0+json": {
       "columns": [
        {
         "name": "index",
         "rawType": "int64",
         "type": "integer"
        },
        {
         "name": "studytime",
         "rawType": "float64",
         "type": "float"
        },
        {
         "name": "absences",
         "rawType": "float64",
         "type": "float"
        },
        {
         "name": "goout",
         "rawType": "float64",
         "type": "float"
        },
        {
         "name": "freetime",
         "rawType": "float64",
         "type": "float"
        },
        {
         "name": "attendance_rate",
         "rawType": "float64",
         "type": "float"
        },
        {
         "name": "famsup_yes",
         "rawType": "float64",
         "type": "float"
        },
        {
         "name": "schoolsup_yes",
         "rawType": "float64",
         "type": "float"
        },
        {
         "name": "paid_yes",
         "rawType": "float64",
         "type": "float"
        },
        {
         "name": "activities_yes",
         "rawType": "float64",
         "type": "float"
        },
        {
         "name": "higher_yes",
         "rawType": "float64",
         "type": "float"
        },
        {
         "name": "internet_yes",
         "rawType": "float64",
         "type": "float"
        },
        {
         "name": "romantic_yes",
         "rawType": "float64",
         "type": "float"
        }
       ],
       "ref": "326a6a52-b2a6-4584-b99c-622092b38d5c",
       "rows": [
        [
         "305",
         "-1.122808480157685",
         "1.099739942919041",
         "0.6937849605682166",
         "0.7804782639289712",
         "-1.0997399429190413",
         "-1.2592288793217572",
         "-0.3421104893438741",
         "-0.25285257805588657",
         "-0.9711404493970425",
         "-2.8992752717617685",
         "0.5506476653955981",
         "-0.7634964500692145"
        ],
        [
         "93",
         "0.08365294968062233",
         "-0.36985077009631445",
         "-0.1573803313198222",
         "-0.17164653548813819",
         "0.3698507700963145",
         "0.7941368058034197",
         "-0.3421104893438741",
         "-0.25285257805588657",
         "1.0297171749162293",
         "0.34491378233027914",
         "0.5506476653955981",
         "-0.7634964500692145"
        ],
        [
         "408",
         "0.08365294968062233",
         "1.834535299426719",
         "0.6937849605682166",
         "0.7804782639289712",
         "-1.834535299426719",
         "0.7941368058034197",
         "-0.3421104893438741",
         "-0.25285257805588657",
         "1.0297171749162293",
         "-2.8992752717617685",
         "0.5506476653955981",
         "-0.7634964500692145"
        ]
       ],
       "shape": {
        "columns": 12,
        "rows": 3
       }
      },
      "text/html": [
       "<div>\n",
       "<style scoped>\n",
       "    .dataframe tbody tr th:only-of-type {\n",
       "        vertical-align: middle;\n",
       "    }\n",
       "\n",
       "    .dataframe tbody tr th {\n",
       "        vertical-align: top;\n",
       "    }\n",
       "\n",
       "    .dataframe thead th {\n",
       "        text-align: right;\n",
       "    }\n",
       "</style>\n",
       "<table border=\"1\" class=\"dataframe\">\n",
       "  <thead>\n",
       "    <tr style=\"text-align: right;\">\n",
       "      <th></th>\n",
       "      <th>studytime</th>\n",
       "      <th>absences</th>\n",
       "      <th>goout</th>\n",
       "      <th>freetime</th>\n",
       "      <th>attendance_rate</th>\n",
       "      <th>famsup_yes</th>\n",
       "      <th>schoolsup_yes</th>\n",
       "      <th>paid_yes</th>\n",
       "      <th>activities_yes</th>\n",
       "      <th>higher_yes</th>\n",
       "      <th>internet_yes</th>\n",
       "      <th>romantic_yes</th>\n",
       "    </tr>\n",
       "  </thead>\n",
       "  <tbody>\n",
       "    <tr>\n",
       "      <th>305</th>\n",
       "      <td>-1.122808</td>\n",
       "      <td>1.099740</td>\n",
       "      <td>0.693785</td>\n",
       "      <td>0.780478</td>\n",
       "      <td>-1.099740</td>\n",
       "      <td>-1.259229</td>\n",
       "      <td>-0.34211</td>\n",
       "      <td>-0.252853</td>\n",
       "      <td>-0.971140</td>\n",
       "      <td>-2.899275</td>\n",
       "      <td>0.550648</td>\n",
       "      <td>-0.763496</td>\n",
       "    </tr>\n",
       "    <tr>\n",
       "      <th>93</th>\n",
       "      <td>0.083653</td>\n",
       "      <td>-0.369851</td>\n",
       "      <td>-0.157380</td>\n",
       "      <td>-0.171647</td>\n",
       "      <td>0.369851</td>\n",
       "      <td>0.794137</td>\n",
       "      <td>-0.34211</td>\n",
       "      <td>-0.252853</td>\n",
       "      <td>1.029717</td>\n",
       "      <td>0.344914</td>\n",
       "      <td>0.550648</td>\n",
       "      <td>-0.763496</td>\n",
       "    </tr>\n",
       "    <tr>\n",
       "      <th>408</th>\n",
       "      <td>0.083653</td>\n",
       "      <td>1.834535</td>\n",
       "      <td>0.693785</td>\n",
       "      <td>0.780478</td>\n",
       "      <td>-1.834535</td>\n",
       "      <td>0.794137</td>\n",
       "      <td>-0.34211</td>\n",
       "      <td>-0.252853</td>\n",
       "      <td>1.029717</td>\n",
       "      <td>-2.899275</td>\n",
       "      <td>0.550648</td>\n",
       "      <td>-0.763496</td>\n",
       "    </tr>\n",
       "  </tbody>\n",
       "</table>\n",
       "</div>"
      ],
      "text/plain": [
       "     studytime  absences     goout  freetime  attendance_rate  famsup_yes  \\\n",
       "305  -1.122808  1.099740  0.693785  0.780478        -1.099740   -1.259229   \n",
       "93    0.083653 -0.369851 -0.157380 -0.171647         0.369851    0.794137   \n",
       "408   0.083653  1.834535  0.693785  0.780478        -1.834535    0.794137   \n",
       "\n",
       "     schoolsup_yes  paid_yes  activities_yes  higher_yes  internet_yes  \\\n",
       "305       -0.34211 -0.252853       -0.971140   -2.899275      0.550648   \n",
       "93        -0.34211 -0.252853        1.029717    0.344914      0.550648   \n",
       "408       -0.34211 -0.252853        1.029717   -2.899275      0.550648   \n",
       "\n",
       "     romantic_yes  \n",
       "305     -0.763496  \n",
       "93      -0.763496  \n",
       "408     -0.763496  "
      ]
     },
     "execution_count": 66,
     "metadata": {},
     "output_type": "execute_result"
    }
   ],
   "source": [
    "X_clustering_scaled.sample(3)"
   ]
  },
  {
   "cell_type": "markdown",
   "id": "a7075932",
   "metadata": {},
   "source": [
    "2.6 TRAIN-TEST SPLITS"
   ]
  },
  {
   "cell_type": "code",
   "execution_count": 50,
   "id": "d4958821",
   "metadata": {},
   "outputs": [],
   "source": [
    "# No leakage dataset\n",
    "X_train_no_leak, X_test_no_leak, y_train_no_leak, y_test_no_leak = train_test_split(\n",
    "    X_no_leak,\n",
    "    y_bin_no_leak,\n",
    "    test_size=.2,\n",
    "    random_state=42,\n",
    "    stratify=y_bin_no_leak,\n",
    ")"
   ]
  },
  {
   "cell_type": "code",
   "execution_count": 51,
   "id": "1cb8b338",
   "metadata": {},
   "outputs": [],
   "source": [
    "# With leakage dataset\n",
    "X_train_with_leak, X_test_with_leak, y_train_with_leak, y_test_with_leak = (\n",
    "    train_test_split(\n",
    "        X_with_leak,\n",
    "        y_bin_with_leak,\n",
    "        test_size=.2,\n",
    "        random_state=42,\n",
    "        stratify=y_bin_with_leak,\n",
    "    )\n",
    ")"
   ]
  },
  {
   "cell_type": "code",
   "execution_count": 52,
   "id": "0afdc3c0",
   "metadata": {},
   "outputs": [
    {
     "name": "stdout",
     "output_type": "stream",
     "text": [
      "  No leakage - Train: (519, 44), Test: (130, 44)\n",
      "  With G1/G2 - Train: (519, 47), Test: (130, 47)\n"
     ]
    }
   ],
   "source": [
    "print(f\"  No leakage - Train: {X_train_no_leak.shape}, Test: {X_test_no_leak.shape}\")\n",
    "print(f\"  With G1/G2 - Train: {X_train_with_leak.shape}, Test: {X_test_with_leak.shape}\")"
   ]
  },
  {
   "cell_type": "markdown",
   "id": "3d9fa6d9",
   "metadata": {},
   "source": [
    "2.7 SAVE TRANSFORMED DATASETS"
   ]
  },
  {
   "cell_type": "code",
   "execution_count": 53,
   "id": "89ca1e38",
   "metadata": {},
   "outputs": [],
   "source": [
    "# Save main datasets\n",
    "df_no_leakage.to_csv(\"student_data_no_leakage.csv\", index=False)\n",
    "df_with_leakage.to_csv(\"student_data_with_leakage.csv\", index=False)"
   ]
  },
  {
   "cell_type": "code",
   "execution_count": 54,
   "id": "f83462c1",
   "metadata": {},
   "outputs": [],
   "source": [
    "# Save clustering data\n",
    "X_clustering_scaled.to_csv(\"student_data_clustering.csv\", index=False)"
   ]
  },
  {
   "cell_type": "code",
   "execution_count": 55,
   "id": "81b89a1a",
   "metadata": {},
   "outputs": [
    {
     "name": "stdout",
     "output_type": "stream",
     "text": [
      "All transformed datasets saved successfully\n"
     ]
    }
   ],
   "source": [
    "# Save train-test splits\n",
    "X_train_no_leak.to_csv(\"X_train_no_leak.csv\", index=False)\n",
    "X_test_no_leak.to_csv(\"X_test_no_leak.csv\", index=False)\n",
    "y_train_no_leak.to_csv(\"y_train_no_leak.csv\", index=False)\n",
    "y_test_no_leak.to_csv(\"y_test_no_leak.csv\", index=False)\n",
    "\n",
    "X_train_with_leak.to_csv(\"X_train_with_leak.csv\", index=False)\n",
    "X_test_with_leak.to_csv(\"X_test_with_leak.csv\", index=False)\n",
    "y_train_with_leak.to_csv(\"y_train_with_leak.csv\", index=False)\n",
    "y_test_with_leak.to_csv(\"y_test_with_leak.csv\", index=False)\n",
    "\n",
    "print(\"All transformed datasets saved successfully\")"
   ]
  },
  {
   "cell_type": "code",
   "execution_count": 67,
   "id": "24e5facb",
   "metadata": {},
   "outputs": [
    {
     "name": "stdout",
     "output_type": "stream",
     "text": [
      "\n",
      "======================================================================\n",
      "DATA TRANSFORMATION SUMMARY\n",
      "======================================================================\n",
      "\n",
      "ORIGINAL DATASET:\n",
      "- Shape: (649, 33)\n",
      "- Categorical features: 17\n",
      "- Numerical features: 16\n",
      "\n",
      "TRANSFORMED DATASET:\n",
      "- Shape: (649, 50)\n",
      "- Total features: 50\n",
      "- New features created: 17\n",
      "\n",
      "FEATURE ENGINEERING RESULTS:\n",
      "- Features created: 8\n",
      "  • attendance_rate\n",
      "  • grade_avg\n",
      "  • pass_binary\n",
      "  • risk_category\n",
      "  • study_efficiency\n",
      "  • has_failures\n",
      "  • family_edu_avg\n",
      "  • family_edu_max\n",
      "\n",
      "TARGET VARIABLES:\n",
      "- G3 (continuous): 0-19\n",
      "- Pass/Fail (binary): {1: 549, 0: 100}\n",
      "- Risk categories: {'Medium_Risk': 355, 'Low_Risk': 194, 'High_Risk': 100}\n",
      "\n",
      "DATA LEAKAGE ANALYSIS:\n",
      "- Dataset without G1/G2: 47 features\n",
      "- Dataset with G1/G2: 50 features\n",
      "- Feature difference: 3 features\n",
      "\n",
      "CLUSTERING PREPARATION:\n",
      "- Behavioral features selected: 12\n",
      "- Clustering dataset shape: (649, 12)\n",
      "\n",
      "======================================================================\n",
      "DATA TRANSFORMATION COMPLETE ✓\n",
      "======================================================================\n"
     ]
    }
   ],
   "source": [
    "# 10. TRANSFORMATION SUMMARY\n",
    "# ==========================\n",
    "\n",
    "print(\"\\n\" + \"=\" * 70)\n",
    "print(\"DATA TRANSFORMATION SUMMARY\")\n",
    "print(\"=\" * 70)\n",
    "\n",
    "print(f\"\\nORIGINAL DATASET:\")\n",
    "print(f\"- Shape: {df.shape}\")\n",
    "print(f\"- Categorical features: {len(categorical_cols)}\")\n",
    "print(f\"- Numerical features: {len(numerical_cols)}\")\n",
    "\n",
    "print(f\"\\nTRANSFORMED DATASET:\")\n",
    "print(f\"- Shape: {df_encoded.shape}\")\n",
    "print(f\"- Total features: {df_encoded.shape[1]}\")\n",
    "print(f\"- New features created: {df_encoded.shape[1] - df.shape[1]}\")\n",
    "\n",
    "print(f\"\\nFEATURE ENGINEERING RESULTS:\")\n",
    "engineered_features = [\n",
    "    \"attendance_rate\",\n",
    "    \"grade_avg\",\n",
    "    \"pass_binary\",\n",
    "    \"risk_category\",\n",
    "    \"study_efficiency\",\n",
    "    \"has_failures\",\n",
    "    \"family_edu_avg\",\n",
    "    \"family_edu_max\",\n",
    "]\n",
    "available_engineered = [f for f in engineered_features if f in df_encoded.columns]\n",
    "print(f\"- Features created: {len(available_engineered)}\")\n",
    "for feat in available_engineered:\n",
    "    print(f\"  • {feat}\")\n",
    "\n",
    "print(f\"\\nTARGET VARIABLES:\")\n",
    "print(f\"- G3 (continuous): {df_encoded['G3'].min():.0f}-{df_encoded['G3'].max():.0f}\")\n",
    "print(f\"- Pass/Fail (binary): {df_encoded['pass_binary'].value_counts().to_dict()}\")\n",
    "print(f\"- Risk categories: {df_encoded['risk_category'].value_counts().to_dict()}\")\n",
    "\n",
    "print(f\"\\nDATA LEAKAGE ANALYSIS:\")\n",
    "print(f\"- Dataset without G1/G2: {df_no_leakage.shape[1]} features\")\n",
    "print(f\"- Dataset with G1/G2: {df_with_leakage.shape[1]} features\")\n",
    "print(\n",
    "    f\"- Feature difference: {df_with_leakage.shape[1] - df_no_leakage.shape[1]} features\"\n",
    ")\n",
    "\n",
    "print(f\"\\nCLUSTERING PREPARATION:\")\n",
    "print(f\"- Behavioral features selected: {len(available_clustering_features)}\")\n",
    "print(f\"- Clustering dataset shape: {X_clustering_scaled.shape}\")\n",
    "\n",
    "\n",
    "print(\"\\n\" + \"=\" * 70)\n",
    "print(\"DATA TRANSFORMATION COMPLETE ✓\")\n",
    "print(\"=\" * 70)"
   ]
  },
  {
   "cell_type": "code",
   "execution_count": null,
   "id": "8990ab55",
   "metadata": {},
   "outputs": [],
   "source": []
  }
 ],
 "metadata": {
  "kernelspec": {
   "display_name": "Python 3",
   "language": "python",
   "name": "python3"
  },
  "language_info": {
   "codemirror_mode": {
    "name": "ipython",
    "version": 3
   },
   "file_extension": ".py",
   "mimetype": "text/x-python",
   "name": "python",
   "nbconvert_exporter": "python",
   "pygments_lexer": "ipython3",
   "version": "3.12.2"
  }
 },
 "nbformat": 4,
 "nbformat_minor": 5
}
